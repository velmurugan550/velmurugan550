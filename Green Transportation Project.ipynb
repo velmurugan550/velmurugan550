{
  "cells": [
    {
      "cell_type": "code",
      "execution_count": null,
      "metadata": {
        "colab": {
          "base_uri": "https://localhost:8080/"
        },
        "id": "upJFs1MRweve",
        "outputId": "9d5beccc-3670-41ab-ed2e-00275eeeb091"
      },
      "outputs": [
        {
          "ename": "",
          "evalue": "",
          "output_type": "error",
          "traceback": [
            "\u001b[1;31mThe kernel failed to start due to the missing module 'packaging'. Consider installing this module.\n",
            "\u001b[1;31mClick <a href='https://aka.ms/kernelFailuresMissingModule'>here</a> for more info."
          ]
        }
      ],
      "source": [
        "!pip install -q streamlit"
      ]
    },
    {
      "cell_type": "code",
      "execution_count": null,
      "metadata": {
        "colab": {
          "base_uri": "https://localhost:8080/"
        },
        "id": "5TKkrpUIwzY7",
        "outputId": "b80b4e58-19f5-45bf-d3f6-3607783ebae7"
      },
      "outputs": [
        {
          "ename": "",
          "evalue": "",
          "output_type": "error",
          "traceback": [
            "\u001b[1;31mThe kernel failed to start due to the missing module 'packaging'. Consider installing this module.\n",
            "\u001b[1;31mClick <a href='https://aka.ms/kernelFailuresMissingModule'>here</a> for more info."
          ]
        }
      ],
      "source": [
        "%%writefile app.py\n",
        "import streamlit as st\n",
        "import pandas as pd\n",
        "from sklearn.ensemble import RandomForestRegressor\n",
        "from sklearn.model_selection import train_test_split\n",
        "import pickle\n",
        "df=pd.read_csv('/content/drive/MyDrive/auto-mpg.csv')\n",
        "df=df[df['horsepower']!='?']\n",
        "df['horsepower']=pd.to_numeric(df['horsepower'])\n",
        "features=['cylinders', 'displacement', 'horsepower', 'weight','acceleration']\n",
        "X=df[features]\n",
        "y=df['mpg']\n",
        "train_X,test_X,train_y,test_y=train_test_split(X,y,random_state=1)\n",
        "model=RandomForestRegressor()\n",
        "model.fit(train_X,train_y)\n",
        "\n",
        "\n",
        "pickle_out = open(\"model.pkl\", \"wb\")\n",
        "pickle.dump(model, pickle_out)\n",
        "pickle_out.close()\n",
        "pickle_in = open('model.pkl', 'rb')\n",
        "classifier = pickle.load(pickle_in)\n",
        "def prediction(cylinders, displacement, horsepower, weight,acceleration):\n",
        "    prediction = model.predict(\n",
        "        [[cylinders, displacement, horsepower, weight,acceleration]])\n",
        "    print(prediction)\n",
        "    return prediction\n",
        "\n",
        "def service (cylinders,displacement):\n",
        "    if (cylinders==3) and (displacement>=77 or displacement<=67):\n",
        "        st.success('problem on your engine please do service')\n",
        "    elif (cylinders==4) and(displacement>=130 or displacement<=88):\n",
        "        st.success('problem on your engine please do service')\n",
        "    elif (cylinders==5) and (displacement>=178 or displacement<=112):\n",
        "        st.success('problem on your engine please do service')\n",
        "    elif (cylinders==6) and (displacement>=250 or displacement<=186):\n",
        "        st.success('problem on your engine please do service')\n",
        "    elif (cylinders==8) and (displacement>=391 or displacement<=299):\n",
        "        st.success('problem on your engine please do service')\n",
        "\n",
        "a=df.acceleration.unique()\n",
        "a1=list(a)\n",
        "r=df.groupby('acceleration')['horsepower'].max()\n",
        "h=list(r)\n",
        "\n",
        "def mai (acceleration):\n",
        "  if (acceleration in a1):\n",
        "    st.success('maintain the horse power to {}'.format (h[a1.index(acceleration)]) )\n",
        "  else:\n",
        "    st.success('maintain the acceleration')\n",
        "\n",
        "\n",
        "st.title(\"Green Transportation\")\n",
        "cylinders = st.radio(\"Cylinders\", (3,4,5,6,8))\n",
        "displacement = st.number_input(\"Displacement\")\n",
        "horsepower = st.number_input(\"Horsepower\")\n",
        "weight = st.number_input(\"Weight\")\n",
        "acceleration =  st.slider(\"Acceleration\", 8, 24)\n",
        "if st.button(\"Predict\"):\n",
        "        result = prediction(cylinders, displacement, horsepower, weight,acceleration)\n",
        "        st.success(float(result))\n",
        "mai(acceleration)\n",
        "service (cylinders,displacement)\n",
        "result1=prediction(cylinders, displacement,h[a1.index(acceleration)], weight,acceleration)\n",
        "st.success('Now your millage is {}'.format (float(result1)) )\n"
      ]
    },
    {
      "cell_type": "code",
      "execution_count": null,
      "metadata": {
        "colab": {
          "base_uri": "https://localhost:8080/"
        },
        "id": "NiE4-RQww4YX",
        "outputId": "57e1f494-09ba-4a3c-a0a8-5015ce4d0190"
      },
      "outputs": [
        {
          "name": "stdout",
          "output_type": "stream",
          "text": [
            "34.86.205.238\n"
          ]
        }
      ],
      "source": [
        "!wget -q -O - ipv4.icanhazip.com\n"
      ]
    },
    {
      "cell_type": "code",
      "execution_count": null,
      "metadata": {
        "colab": {
          "base_uri": "https://localhost:8080/"
        },
        "id": "XYfHUl40w7vQ",
        "outputId": "38780bb7-2830-4b97-ad9f-bbf72ada8d7b"
      },
      "outputs": [
        {
          "name": "stdout",
          "output_type": "stream",
          "text": [
            "\u001b[K\u001b[?25h\n",
            "up to date, audited 23 packages in 588ms\n",
            "\n",
            "3 packages are looking for funding\n",
            "  run `npm fund` for details\n",
            "\n",
            "2 \u001b[33m\u001b[1mmoderate\u001b[22m\u001b[39m severity vulnerabilities\n",
            "\n",
            "To address all issues (including breaking changes), run:\n",
            "  npm audit fix --force\n",
            "\n",
            "Run `npm audit` for details.\n"
          ]
        }
      ],
      "source": [
        "!npm install localtunnel"
      ]
    },
    {
      "cell_type": "code",
      "execution_count": null,
      "metadata": {
        "id": "9WK-HPG3w6-C"
      },
      "outputs": [],
      "source": [
        "!streamlit run /content/app.py &>/content/logs.txt &"
      ]
    },
    {
      "cell_type": "code",
      "execution_count": null,
      "metadata": {
        "colab": {
          "base_uri": "https://localhost:8080/"
        },
        "id": "JhAOedIixBA_",
        "outputId": "55b097fe-f809-4547-9d9f-348cb9c75d27"
      },
      "outputs": [
        {
          "name": "stdout",
          "output_type": "stream",
          "text": [
            "your url is: https://great-experts-reply.loca.lt\n",
            "^C\n"
          ]
        }
      ],
      "source": [
        "!npx localtunnel --port 8501"
      ]
    }
  ],
  "metadata": {
    "colab": {
      "provenance": []
    },
    "kernelspec": {
      "display_name": "Python 3",
      "name": "python3"
    },
    "language_info": {
      "name": "python",
      "version": "3.12.3"
    }
  },
  "nbformat": 4,
  "nbformat_minor": 0
}
